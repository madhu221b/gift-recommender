{
 "cells": [
  {
   "cell_type": "code",
   "execution_count": 13,
   "metadata": {},
   "outputs": [],
   "source": [
    "import pandas as pd\n",
    "import matplotlib.pyplot as plt\n",
    "import numpy as np\n",
    "from nltk.tokenize import word_tokenize\n",
    "from gensim.corpora.dictionary import Dictionary\n",
    "from gensim.models.tfidfmodel import TfidfModel\n",
    "from gensim.similarities import MatrixSimilarity\n",
    "from ast import literal_eval"
   ]
  },
  {
   "cell_type": "code",
   "execution_count": 14,
   "metadata": {},
   "outputs": [],
   "source": [
    "ABSOLUTE_PATH = \"../../datasets/\"\n",
    "df = pd.read_csv(ABSOLUTE_PATH+\"category_dataset.csv\")\n",
    "df[\"keywords_array\"] = df[\"keywords_array\"].apply(literal_eval)"
   ]
  },
  {
   "cell_type": "code",
   "execution_count": null,
   "metadata": {},
   "outputs": [],
   "source": [
    "#Checking length of array for each product through histogram\n",
    "nk = []\n",
    "for keywords in df[\"keywords_array\"]:\n",
    "    nc = len(keywords)\n",
    "    nk.append(nc)\n",
    "plt.hist(nk)\n",
    "plt.xlabel(\"No. of characters in keyword array column\")\n",
    "plt.ylabel(\"No. of products\")\n",
    "plt.show()"
   ]
  },
  {
   "cell_type": "code",
   "execution_count": null,
   "metadata": {},
   "outputs": [],
   "source": [
    "col_array = [\"keywords_array\"]\n",
    "for col in col_array:\n",
    "    print(\"%s: %.3f\"% (col, np.mean(df[col].str.len())))"
   ]
  },
  {
   "cell_type": "code",
   "execution_count": null,
   "metadata": {},
   "outputs": [],
   "source": [
    "number_of_keywords = []\n",
    "for keywords in df[\"keywords_array\"]:\n",
    "    n_keywords = len(keywords.split(','))\n",
    "    number_of_keywords.append(n_keywords)\n",
    "    \n",
    "plt.hist(number_of_keywords)\n",
    "plt.xlabel(\"number of words in keyword column\")\n",
    "plt.ylabel(\"number of products\")\n"
   ]
  },
  {
   "cell_type": "code",
   "execution_count": 15,
   "metadata": {},
   "outputs": [],
   "source": [
    "keywords = df[\"keywords_array\"].tolist()"
   ]
  },
  {
   "cell_type": "code",
   "execution_count": 16,
   "metadata": {},
   "outputs": [],
   "source": [
    "dictionary = Dictionary(keywords)\n",
    "corpus = [dictionary.doc2bow(doc) for doc in keywords] "
   ]
  },
  {
   "cell_type": "code",
   "execution_count": 18,
   "metadata": {},
   "outputs": [],
   "source": [
    "\n",
    "tfidf = TfidfModel(corpus) \n",
    "sims = MatrixSimilarity(tfidf[corpus], num_features=len(dictionary))"
   ]
  },
  {
   "cell_type": "code",
   "execution_count": 21,
   "metadata": {},
   "outputs": [],
   "source": [
    "def keywords_recommendation(keywords, number_of_hits):\n",
    "    query_doc_bow = dictionary.doc2bow(keywords) # get a bag of words from the query_doc\n",
    "    query_doc_tfidf = tfidf[query_doc_bow] #convert the regular bag of words model to a tf-idf model where we have tuples\n",
    "    # of the movie ID and it's tf-idf value for the movie\n",
    "\n",
    "    similarity_array = sims[query_doc_tfidf] # get the array of similarity values between our movie and every other movie. \n",
    "    #So the length is the number of movies we have. To do this, we pass our list of tf-idf tuples to sims.\n",
    "\n",
    "    similarity_series = pd.Series(similarity_array.tolist(), index=df.product_name.values) #Convert to a Series\n",
    "    top_hits = similarity_series.sort_values(ascending=False)[:number_of_hits] #get the top matching results, \n",
    "    # i.e. most similar movies\n",
    "\n",
    "    # Print the top matching movies\n",
    "    print(\"Our top %s most similar products for the keywords %s are:\" %(number_of_hits, keywords))\n",
    "    for idx, (product,score) in enumerate(zip(top_hits.index, top_hits)):\n",
    "        print(\"%d '%s' with a similarity score of %.3f\" %(idx+1, product, score))"
   ]
  },
  {
   "cell_type": "code",
   "execution_count": 22,
   "metadata": {},
   "outputs": [
    {
     "name": "stdout",
     "output_type": "stream",
     "text": [
      "Our top 5 most similar products for the keywords ['tic'] are:\n",
      "1 'Naaz Tic Tac Toe mini Board Game' with a similarity score of 0.285\n",
      "2 'Takspin casual collection of clutcher & hair pin (set of 7) Hair Claw' with a similarity score of 0.055\n",
      "3 'AutoKraftZ Silicone Car Bumper Guard' with a similarity score of 0.000\n",
      "4 'Aerosoft Margaret Loafers' with a similarity score of 0.000\n",
      "5 'Utex Slim Fit Fit Baby Boy's Jeans' with a similarity score of 0.000\n"
     ]
    }
   ],
   "source": [
    "keywords_test = ['tic']\n",
    "keywords_recommendation(keywords_test, 5)"
   ]
  },
  {
   "cell_type": "code",
   "execution_count": null,
   "metadata": {},
   "outputs": [],
   "source": []
  }
 ],
 "metadata": {
  "kernelspec": {
   "display_name": "Python 3",
   "language": "python",
   "name": "python3"
  },
  "language_info": {
   "codemirror_mode": {
    "name": "ipython",
    "version": 3
   },
   "file_extension": ".py",
   "mimetype": "text/x-python",
   "name": "python",
   "nbconvert_exporter": "python",
   "pygments_lexer": "ipython3",
   "version": "3.7.1"
  }
 },
 "nbformat": 4,
 "nbformat_minor": 2
}
